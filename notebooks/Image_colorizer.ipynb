{
 "cells": [
  {
   "cell_type": "code",
   "execution_count": null,
   "metadata": {},
   "outputs": [],
   "source": [
    "from tensorflow.keras.models import model_from_json\n",
    "import tensorflow as tf\n",
    "from tensorflow.keras.layers import *"
   ]
  },
  {
   "cell_type": "code",
   "execution_count": null,
   "metadata": {},
   "outputs": [],
   "source": [
    "import numpy as np\n",
    "import PIL\n",
    "import matplotlib as mpl\n",
    "import matplotlib.pyplot as plt\n",
    "import scipy\n",
    "import imageio\n",
    "from PIL import Image,ImageOps\n",
    "from scipy import ndimage\n",
    "from scipy.io import loadmat\n",
    "import cv2\n",
    "%matplotlib inline\n",
    "from tensorflow.keras import backend as K"
   ]
  },
  {
   "cell_type": "code",
   "execution_count": null,
   "metadata": {},
   "outputs": [],
   "source": [
    "import imageio\n",
    "import os\n",
    "from skimage.io import imread\n",
    "from skimage.transform import resize\n"
   ]
  },
  {
   "cell_type": "code",
   "execution_count": null,
   "metadata": {},
   "outputs": [],
   "source": [
    "print(\"Num GPUs Available: \", len(tf.config.experimental.list_physical_devices()), tf.config.experimental.list_physical_devices())\n",
    "config = tf.compat.v1.ConfigProto(allow_soft_placement=True)\n",
    "\n",
    "config.gpu_options.per_process_gpu_memory_fraction = 0.4\n",
    "tf.compat.v1.keras.backend.set_session(tf.compat.v1.Session(config=config))"
   ]
  },
  {
   "cell_type": "markdown",
   "metadata": {},
   "source": [
    "## Colorize Using Regression Model"
   ]
  },
  {
   "cell_type": "code",
   "execution_count": null,
   "metadata": {},
   "outputs": [],
   "source": []
  },
  {
   "cell_type": "code",
   "execution_count": null,
   "metadata": {},
   "outputs": [],
   "source": [
    "def bw2colour_reg(name):\n",
    "    "
   ]
  },
  {
   "cell_type": "code",
   "execution_count": null,
   "metadata": {},
   "outputs": [],
   "source": [
    "class colorize_reg():\n",
    "    def __init__(self,path):\n",
    "        self.path=path\n",
    "        name=path.split('/')\n",
    "        self.name=name[-1]\n",
    "        \n",
    "    def load_model(self):\n",
    "        json_file = open('reg_imcolor/reg_imcolor.json', 'r')\n",
    "        loaded_model_json = json_file.read()\n",
    "        json_file.close()\n",
    "        model_reg = model_from_json(loaded_model_json)\n",
    "        # load weights into new model\n",
    "        model_reg.load_weights(\"reg_imcolor/reg_imcolor.h5\")\n",
    "        \n",
    "        return model_reg\n",
    "    \n",
    "    def colorize(self):\n",
    "        from PIL import Image\n",
    "        # Open the image form working directory\n",
    "        test_0 = Image.open(self.path)\n",
    "        test_0=np.array(test_0)\n",
    "        shape=test_0.shape\n",
    "        test_0 = resize(test_0, (512, 512)).astype('float32')\n",
    "        test_0 = cv2.cvtColor(test_0,cv2.COLOR_RGB2Luv)\n",
    "        test_0l=test_0[:,:,0]\n",
    "        test=test_0l.reshape(1,512,512,1)\n",
    "        \n",
    "        # load model\n",
    "        model_reg=self.load_model()\n",
    "        pred=model_reg.predict(test)\n",
    "        pred_im=np.dstack([test[0],pred[0]])\n",
    "        pred_im=pred_im.astype('float32')\n",
    "        rgbpred = cv2.cvtColor(pred_im,cv2.COLOR_Luv2RGB)\n",
    "        rgbpred = resize(rgbpred, shape).astype('float32')\n",
    "        plt.figure(figsize=(12,12))\n",
    "        plt.imshow(rgbpred) \n",
    "        return rgbpred\n",
    "        \n",
    "    def run(self):\n",
    "        im = self.colorize()\n",
    "        im = Image.fromarray((im*255).astype(np.uint8))\n",
    "        im.show(im)\n",
    "        im.save('colorized_reg_'+self.name )\n",
    "        K.clear_session()\n",
    "        \n",
    "        \n",
    "        "
   ]
  },
  {
   "cell_type": "code",
   "execution_count": null,
   "metadata": {},
   "outputs": [],
   "source": [
    "colorize_reg('test/t7.jpg').run()"
   ]
  },
  {
   "cell_type": "markdown",
   "metadata": {},
   "source": [
    "## Colorize Using Unet Model"
   ]
  },
  {
   "cell_type": "code",
   "execution_count": null,
   "metadata": {},
   "outputs": [],
   "source": [
    "json_file = open('unet_imcolor/unet_imcolorf.json', 'r')\n",
    "loaded_model_json = json_file.read()\n",
    "json_file.close()\n",
    "model_unet = model_from_json(loaded_model_json)\n",
    "# load weights into new model\n",
    "model_unet.load_weights(\"unet_imcolor/unet_imcolorf.h5\")"
   ]
  },
  {
   "cell_type": "code",
   "execution_count": null,
   "metadata": {},
   "outputs": [],
   "source": [
    "def bw2colour_unet(name):\n",
    "    from PIL import Image\n",
    "    # Open the image from working directory\n",
    "    test_0 = Image.open(name)\n",
    "    test_0=np.array(test_0)\n",
    "    shape=test_0.shape\n",
    "    test_0 = resize(test_0, (224, 224)).astype('float32')\n",
    "    test_0 = cv2.cvtColor(test_0,cv2.COLOR_RGB2Luv)\n",
    "    test_0l=test_0[:,:,0]\n",
    "    test=test_0l.reshape(1,224,224,1)\n",
    "    pred=model_unet.predict(test)\n",
    "    pred_im=np.dstack([test[0],pred[0]])\n",
    "    pred_im=pred_im.astype('float32')\n",
    "    rgbpred = cv2.cvtColor(pred_im,cv2.COLOR_Luv2RGB)\n",
    "    rgbpred = resize(rgbpred, shape).astype('float32')\n",
    "    plt.imshow(rgbpred)"
   ]
  },
  {
   "cell_type": "code",
   "execution_count": null,
   "metadata": {},
   "outputs": [],
   "source": [
    "class colorize_unet():\n",
    "    def __init__(self,path):\n",
    "        self.path=path\n",
    "        name=path.split('/')\n",
    "        self.name=name[-1]\n",
    "        \n",
    "    def load_model(self):\n",
    "        json_file = open('unet_imcolor/unet_imcolorf.json', 'r')\n",
    "        loaded_model_json = json_file.read()\n",
    "        json_file.close()\n",
    "        model_reg = model_from_json(loaded_model_json)\n",
    "        # load weights into new model\n",
    "        model_reg.load_weights(\"unet_imcolor/unet_imcolorf.h5\")\n",
    "        \n",
    "        return model_reg\n",
    "    \n",
    "    def colorize(self):\n",
    "        from PIL import Image\n",
    "        # Open the image form working directory\n",
    "        test_0 = Image.open(self.path)\n",
    "        test_0=np.array(test_0)\n",
    "        shape=test_0.shape\n",
    "        test_0 = resize(test_0, (512, 512)).astype('float32')\n",
    "        test_0 = cv2.cvtColor(test_0,cv2.COLOR_RGB2Luv)\n",
    "        test_0l=test_0[:,:,0]\n",
    "        test=test_0l.reshape(1,512,512,1)\n",
    "        \n",
    "        # load model\n",
    "        model_reg=self.load_model()\n",
    "        pred=model_reg.predict(test)\n",
    "        pred_im=np.dstack([test[0],pred[0]])\n",
    "        pred_im=pred_im.astype('float32')\n",
    "        rgbpred = cv2.cvtColor(pred_im,cv2.COLOR_Luv2RGB)\n",
    "        rgbpred = resize(rgbpred, shape).astype('float32')\n",
    "        plt.figure(figsize=(12,12))\n",
    "        plt.imshow(rgbpred) \n",
    "        return rgbpred\n",
    "        \n",
    "    def run(self):\n",
    "        im = self.colorize()\n",
    "        im = Image.fromarray((im*255).astype(np.uint8))\n",
    "        im.show(im)\n",
    "        im.save('colorized_unet_'+self.name ) \n",
    "        K.clear_session()\n",
    "\n",
    "        "
   ]
  },
  {
   "cell_type": "code",
   "execution_count": null,
   "metadata": {},
   "outputs": [],
   "source": [
    "colorize_unet('test/t7.jpg').run()"
   ]
  },
  {
   "cell_type": "code",
   "execution_count": null,
   "metadata": {},
   "outputs": [],
   "source": []
  }
 ],
 "metadata": {
  "kernelspec": {
   "display_name": "Python 3",
   "language": "python",
   "name": "python3"
  },
  "language_info": {
   "codemirror_mode": {
    "name": "ipython",
    "version": 3
   },
   "file_extension": ".py",
   "mimetype": "text/x-python",
   "name": "python",
   "nbconvert_exporter": "python",
   "pygments_lexer": "ipython3",
   "version": "3.8.3"
  }
 },
 "nbformat": 4,
 "nbformat_minor": 4
}
