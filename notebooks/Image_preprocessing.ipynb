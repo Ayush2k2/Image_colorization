{
 "cells": [
  {
   "cell_type": "code",
   "execution_count": null,
   "metadata": {},
   "outputs": [],
   "source": [
    "import tensorflow as tf\n",
    "import numpy as np\n",
    "import PIL\n",
    "import matplotlib as mpl\n",
    "import matplotlib.pyplot as plt\n",
    "import scipy\n",
    "import imageio\n",
    "from PIL import Image,ImageOps\n",
    "from scipy import ndimage\n",
    "from scipy.io import loadmat\n",
    "\n",
    "%matplotlib inline"
   ]
  },
  {
   "cell_type": "code",
   "execution_count": null,
   "metadata": {},
   "outputs": [],
   "source": [
    "import glob\n",
    "import imageio\n",
    "import time\n",
    "from IPython import display\n",
    "from skimage.io import imread\n",
    "import os\n",
    "from skimage.io import imread\n",
    "from skimage.transform import resize\n",
    "from tensorflow.keras.preprocessing.image import load_img ,img_to_array\n",
    "import pickle"
   ]
  },
  {
   "cell_type": "code",
   "execution_count": null,
   "metadata": {},
   "outputs": [],
   "source": [
    "list_file = os.listdir('dataset')\n",
    "num_images=len(list_file)\n",
    "train_images = np.array([resize(imread(os.path.join('dataset',file_name)), (64, 64,3)) for file_name in list_file])"
   ]
  },
  {
   "cell_type": "code",
   "execution_count": null,
   "metadata": {},
   "outputs": [],
   "source": [
    "#after_reading_make pickle for fast  processing\n",
    "#saving as pickle(only to de done once)\n",
    "with open('train_images_dataset.pickle', 'wb') as f:\n",
    "    pickle.dump({'images':train_images}, f)"
   ]
  },
  {
   "cell_type": "code",
   "execution_count": null,
   "metadata": {},
   "outputs": [],
   "source": [
    "#opening pickle \n",
    "#with open('train_images_dataset.pickle', 'rb') as f:\n",
    "#    images = pickle.load(f)\n",
    "#train_images=images['images']"
   ]
  },
  {
   "cell_type": "markdown",
   "metadata": {},
   "source": [
    "## Converting RGB TO CIELUV Using custom implementation "
   ]
  },
  {
   "cell_type": "code",
   "execution_count": null,
   "metadata": {},
   "outputs": [],
   "source": [
    "## custom_implementation(slow)\n",
    "\n",
    "class rgb_cieluv:\n",
    "    def __init__(self, img):\n",
    "        self.r = img[:,:,0]\n",
    "        self.r=self.r.reshape(-1)\n",
    "        self.g = img[:,:,1]\n",
    "        self.g=self.g.reshape(-1)\n",
    "        self.b = img[:,:,2]\n",
    "        self.b=self.b.reshape(-1)\n",
    "        \n",
    "    \n",
    "    def rgb_xyz(self):\n",
    "        #//sR, sG and sB (Standard RGB) input range = 0 ÷ 255\n",
    "        #//X, Y and Z output refer to a D65/2° standard illuminant.\n",
    "        #\n",
    "        #var_R = ( sR / 255 )\n",
    "        #var_G = ( sG / 255 )\n",
    "        #var_B = ( sB / 255 )\n",
    "        #\n",
    "        #if ( var_R > 0.04045 ) var_R = ( ( var_R + 0.055 ) / 1.055 ) ^ 2.4\n",
    "        #else                   var_R = var_R / 12.92\n",
    "        #if ( var_G > 0.04045 ) var_G = ( ( var_G + 0.055 ) / 1.055 ) ^ 2.4\n",
    "        #else                   var_G = var_G / 12.92\n",
    "        #if ( var_B > 0.04045 ) var_B = ( ( var_B + 0.055 ) / 1.055 ) ^ 2.4\n",
    "        #else                   var_B = var_B / 12.92\n",
    "        #\n",
    "        #var_R = var_R * 100\n",
    "        #var_G = var_G * 100\n",
    "        #var_B = var_B * 100\n",
    "        #\n",
    "        #X = var_R * 0.4124 + var_G * 0.3576 + var_B * 0.1805\n",
    "        #Y = var_R * 0.2126 + var_G * 0.7152 + var_B * 0.0722\n",
    "        #Z = var_R * 0.0193 + var_G * 0.1192 + var_B * 0.9505\n",
    "        \n",
    "        var_r = self.r\n",
    "        var_g = self.g\n",
    "        var_b = self.b\n",
    "        for i in range(len(var_r)):\n",
    "            if var_r[i] > 0.04045:\n",
    "                var_r[i] =  ( ( var_r[i] + 0.055 ) / 1.055 ) ** 2.4\n",
    "            else:\n",
    "                var_r[i]= var_r[i]/12.92\n",
    "            if var_g[i] > 0.04045:\n",
    "                var_g[i] =  ( ( var_g[i] + 0.055 ) / 1.055 ) ** 2.4\n",
    "            else:\n",
    "                var_g[i] = var_g[i] /12.92\n",
    "            if var_b[i] > 0.04045:\n",
    "                var_b[i] =  ( ( var_b[i] + 0.055 ) / 1.055 ) ** 2.4\n",
    "            else:\n",
    "                var_b[i]= var_b[i]/12.92\n",
    "              \n",
    "        var_r*=100\n",
    "        var_g*=100\n",
    "        var_b*=100\n",
    "        \n",
    "        X = var_r * 0.4124 + var_g * 0.3576 + var_b * 0.1805\n",
    "        Y = var_r * 0.2126 + var_g * 0.7152 + var_b * 0.0722\n",
    "        Z = var_r * 0.0193 + var_g * 0.1192 + var_b * 0.9505\n",
    "        \n",
    "        return X,Y,Z\n",
    "        \n",
    "\n",
    "    def xyz_cieluv(self):\n",
    "        X,Y,Z = self.rgb_xyz()\n",
    "        var_u = ( 4 * X ) / ( X + ( 15 * Y ) + ( 3 * Z ) )\n",
    "        var_v = ( 9 * Y ) / ( X + ( 15 * Y ) + ( 3 * Z ) )\n",
    "        ref_y = Y / 100\n",
    "        ReferenceX,ReferenceY,ReferenceZ=100,100,100\n",
    "        ref_U = ( 4 * ReferenceX ) / ( ReferenceX + ( 15 * ReferenceY ) + ( 3 * ReferenceZ ) )\n",
    "        ref_V = ( 9 * ReferenceY ) / ( ReferenceX + ( 15 * ReferenceY ) + ( 3 * ReferenceZ ) )\n",
    "        CIEL=np.zeros(len(Y))\n",
    "        for i in range(len(ref_y)):\n",
    "            if ref_y[i]>0.008856:\n",
    "                CIEL[i] = ( 116 * ref_y[i]**(1/3) ) - 16\n",
    "            else:\n",
    "                CIEL[i] = ref_y[i] * 903.3\n",
    "        CIEu = 13 * CIEL * ( var_u - 0.2009 )\n",
    "        CIEv = 13 * CIEL * ( var_v - 0.4610 )\n",
    "        return CIEL,CIEu,CIEv\n",
    "        \n",
    "    def run(self):\n",
    "        L,U,V=self.xyz_cieluv()\n",
    "        L[np.isnan(L)] = 0\n",
    "        U[np.isnan(U)] = 0\n",
    "        V[np.isnan(V)] = 0\n",
    "        return L,U,V"
   ]
  },
  {
   "cell_type": "code",
   "execution_count": null,
   "metadata": {},
   "outputs": [],
   "source": [
    "## to run for custom implementation\n",
    "\n",
    "train_L=[]\n",
    "test_U=[]\n",
    "test_V=[]\n",
    "for each in train_images:\n",
    "    L,U,V=rgb_cieluv(each).run()\n",
    "    train_L.append(L)\n",
    "    test_U.append(U)\n",
    "    test_V.append(V)"
   ]
  },
  {
   "cell_type": "code",
   "execution_count": null,
   "metadata": {},
   "outputs": [],
   "source": [
    "train_L=np.array(train_L).reshape(10000,64,64,1)\n",
    "test_U=np.array(test_U).reshape(10000,64,64)\n",
    "test_V=np.array(test_V).reshape(10000,64,64)"
   ]
  },
  {
   "cell_type": "code",
   "execution_count": null,
   "metadata": {},
   "outputs": [],
   "source": [
    "with open('train_L.pickle', 'wb') as f:\n",
    "    pickle.dump({'L':train_L}, f)\n",
    "with open('test_U.pickle', 'wb') as f:\n",
    "    pickle.dump({'U':np.array(test_U)}, f)\n",
    "with open('test_V.pickle', 'wb') as f:\n",
    "    pickle.dump({'V':test_V}, f)"
   ]
  },
  {
   "cell_type": "code",
   "execution_count": null,
   "metadata": {},
   "outputs": [],
   "source": [
    "test={}\n",
    "with open('test_V.pickle', 'rb') as f:\n",
    "    test['V'] = pickle.load(f)\n",
    "with open('test_U.pickle', 'rb') as f:\n",
    "    test['U'] = pickle.load(f)\n",
    "test['V']=np.array(test['V']['V'])\n",
    "test['U']=np.array(test['U']['U'])\n",
    "#test['UV']=np.transpose(np.array([test_U,test_V]),(1,2,3,0))\n",
    "test['UV']=np.transpose(np.array([test['U'],test['V']]),(1,2,3,0))\n",
    "#test['UV']=np.array(test['UV']).reshape(10000,224,224,2)\n",
    "\n",
    "with open('test_UV.pickle', 'wb') as f:\n",
    "    pickle.dump({'UV':test['UV']}, f)"
   ]
  },
  {
   "cell_type": "markdown",
   "metadata": {},
   "source": [
    "## Converting rgb to cieluv(opencv based,fast)"
   ]
  },
  {
   "cell_type": "code",
   "execution_count": null,
   "metadata": {},
   "outputs": [],
   "source": [
    "##open cv based implementation\n",
    "\n",
    "import cv2\n",
    "class rgb_luv_cv2:\n",
    "    def __init__(self, images):\n",
    "        self.images=images\n",
    "        self.num_images=len(images)\n",
    "    \n",
    "    def rgb_l(self):\n",
    "        train_L=[]\n",
    "        i=0\n",
    "        for each in self.images:\n",
    "            each=each.astype('float32')\n",
    "            luv = cv2.cvtColor(each,cv2.COLOR_RGB2Luv)\n",
    "            train_L.append(luv[:,:,0])\n",
    "            i+=1\n",
    "            if i%500==0:\n",
    "                print('Processing L channel Values for image ' +str(i))\n",
    "        return np.array(train_L).reshape(self.num_images,64,64,1)\n",
    "    \n",
    "    def rgb_u(self):\n",
    "        test_U=[]\n",
    "        i=0\n",
    "        for each in self.images:\n",
    "            each=each.astype('float32')\n",
    "            luv = cv2.cvtColor(each,cv2.COLOR_RGB2Luv)\n",
    "            test_U.append(luv[:,:,1])\n",
    "            i+=1\n",
    "            if i%500==0:\n",
    "                print('Processing U channel Values for image ' +str(i))\n",
    "        return np.array(test_U).reshape(self.num_images,64,64)\n",
    "    \n",
    "    def rgb_v(self):\n",
    "        test_V=[]\n",
    "        i=0\n",
    "        for each in self.images:\n",
    "            each=each.astype('float32')\n",
    "            luv = cv2.cvtColor(each,cv2.COLOR_RGB2Luv)\n",
    "            test_V.append(luv[:,:,2])\n",
    "            i+=1\n",
    "            if i%500==0:\n",
    "                print('Processing V channel Values for image ' +str(i))\n",
    "        return np.array(test_V).reshape(self.num_images,64,64)\n",
    "    \n",
    "    def run(self):\n",
    "        L=self.rgb_l()\n",
    "        U=self.rgb_u()\n",
    "        V=self.rgb_v()\n",
    "        \n",
    "        return L,U,V"
   ]
  },
  {
   "cell_type": "code",
   "execution_count": null,
   "metadata": {},
   "outputs": [],
   "source": [
    "train_L,test_U,test_V=rgb_luv_cv2(train_images).run()"
   ]
  },
  {
   "cell_type": "code",
   "execution_count": null,
   "metadata": {},
   "outputs": [],
   "source": [
    "with open('train_L.pickle', 'wb') as f:\n",
    "    pickle.dump({'L':train_L}, f)\n",
    "with open('test_U.pickle', 'wb') as f:\n",
    "    pickle.dump({'U':np.array(test_U)}, f)\n",
    "with open('test_V.pickle', 'wb') as f:\n",
    "    pickle.dump({'V':test_V}, f)"
   ]
  },
  {
   "cell_type": "code",
   "execution_count": null,
   "metadata": {},
   "outputs": [],
   "source": [
    "test={}\n",
    "test['UV']=np.transpose(np.array([test_U,test_V]),(1,2,3,0))"
   ]
  },
  {
   "cell_type": "code",
   "execution_count": null,
   "metadata": {},
   "outputs": [],
   "source": [
    "with open('test_UV.pickle', 'wb') as f:\n",
    "    pickle.dump({'UV':test['UV']}, f)"
   ]
  },
  {
   "cell_type": "code",
   "execution_count": null,
   "metadata": {},
   "outputs": [],
   "source": []
  }
 ],
 "metadata": {
  "kernelspec": {
   "display_name": "Python 3",
   "language": "python",
   "name": "python3"
  },
  "language_info": {
   "codemirror_mode": {
    "name": "ipython",
    "version": 3
   },
   "file_extension": ".py",
   "mimetype": "text/x-python",
   "name": "python",
   "nbconvert_exporter": "python",
   "pygments_lexer": "ipython3",
   "version": "3.8.3"
  }
 },
 "nbformat": 4,
 "nbformat_minor": 4
}
