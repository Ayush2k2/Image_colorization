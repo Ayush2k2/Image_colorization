{
 "cells": [
  {
   "cell_type": "code",
   "execution_count": null,
   "metadata": {},
   "outputs": [],
   "source": [
    "import tensorflow as tf\n",
    "from tensorflow.keras.layers import *\n",
    "import numpy as np\n",
    "import PIL\n",
    "import matplotlib as mpl\n",
    "import matplotlib.pyplot as plt\n",
    "import scipy\n",
    "import imageio\n",
    "from PIL import Image,ImageOps\n",
    "from scipy import ndimage\n",
    "import cv2\n",
    "\n",
    "%matplotlib inline"
   ]
  },
  {
   "cell_type": "code",
   "execution_count": null,
   "metadata": {},
   "outputs": [],
   "source": [
    "import imageio\n",
    "import time\n",
    "from IPython import display\n",
    "from skimage.io import imread\n",
    "import os\n",
    "from skimage.io import imread\n",
    "from skimage.transform import resize\n",
    "import pickle\n",
    "from tensorflow.keras import *"
   ]
  },
  {
   "cell_type": "code",
   "execution_count": null,
   "metadata": {},
   "outputs": [],
   "source": [
    "from model import UNet,reg_network_schematic"
   ]
  },
  {
   "cell_type": "code",
   "execution_count": null,
   "metadata": {},
   "outputs": [],
   "source": [
    "print(\"Num GPUs Available: \", len(tf.config.experimental.list_physical_devices()), tf.config.experimental.list_physical_devices())\n",
    "config = tf.compat.v1.ConfigProto(allow_soft_placement=True)\n",
    "\n",
    "config.gpu_options.per_process_gpu_memory_fraction = 0.85\n",
    "tf.compat.v1.keras.backend.set_session(tf.compat.v1.Session(config=config))"
   ]
  },
  {
   "cell_type": "code",
   "execution_count": null,
   "metadata": {},
   "outputs": [],
   "source": [
    "#opening pickle saved using the notebook for Dataset Image processing\n",
    "with open('train_L.pickle', 'rb') as f:\n",
    "    train_L = pickle.load(f)\n",
    "train_L=np.array(train_L['L'])\n",
    "\n",
    "with open('test_U.pickle', 'rb') as f:\n",
    "    test_U = pickle.load(f)\n",
    "test_U=test_U['U']\n",
    "\n",
    "with open('test_UV.pickle', 'rb') as f:\n",
    "    test_UV = pickle.load(f)\n",
    "test_UV=test_UV['UV']\n",
    "\n",
    "with open('test_V.pickle', 'rb') as f:\n",
    "    test_V = pickle.load(f)\n",
    "test_V=test_V['V']"
   ]
  },
  {
   "cell_type": "markdown",
   "metadata": {},
   "source": [
    "## Training Regression Network"
   ]
  },
  {
   "cell_type": "code",
   "execution_count": null,
   "metadata": {},
   "outputs": [],
   "source": [
    "model_reg=reg_network_schematic()\n",
    "model_reg.compile(loss='huber', \n",
    "                  optimizer='adam', \n",
    "                  metrics=['accuracy'])"
   ]
  },
  {
   "cell_type": "code",
   "execution_count": null,
   "metadata": {},
   "outputs": [],
   "source": [
    "batch_size=20\n",
    "num_epochs=10"
   ]
  },
  {
   "cell_type": "code",
   "execution_count": null,
   "metadata": {},
   "outputs": [],
   "source": [
    "model_reg.fit(train_L,test_UV,epochs=num_epochs , batch_size=batch_size)"
   ]
  },
  {
   "cell_type": "markdown",
   "metadata": {},
   "source": [
    "## Training Unet Network"
   ]
  },
  {
   "cell_type": "code",
   "execution_count": null,
   "metadata": {},
   "outputs": [],
   "source": [
    "model_unet=UNet()\n",
    "model_unet.compile(loss='huber', \n",
    "                  optimizer='adam', \n",
    "                  metrics=['accuracy'])"
   ]
  },
  {
   "cell_type": "code",
   "execution_count": null,
   "metadata": {},
   "outputs": [],
   "source": [
    "batch_size=20\n",
    "num_epochs=10"
   ]
  },
  {
   "cell_type": "code",
   "execution_count": null,
   "metadata": {},
   "outputs": [],
   "source": [
    "model_unet.fit(train_L,test_UV,epochs=num_epochs,batch_size=batch_size)"
   ]
  },
  {
   "cell_type": "markdown",
   "metadata": {},
   "source": [
    "## Displaying Results"
   ]
  },
  {
   "cell_type": "code",
   "execution_count": null,
   "metadata": {},
   "outputs": [],
   "source": [
    "def bw2colour_reg(name):\n",
    "    from PIL import Image\n",
    "    # Open the image form working directory\n",
    "    test_0 = Image.open(name)\n",
    "    test_0=np.array(test_0)\n",
    "    shape=test_0.shape\n",
    "    test_0 = resize(test_0, (224, 224)).astype('float32')\n",
    "    test_0 = cv2.cvtColor(test_0,cv2.COLOR_RGB2Luv)\n",
    "    test_0l=test_0[:,:,0]\n",
    "    test=test_0l.reshape(1,224,224,1)\n",
    "    pred=model_reg.predict(test)\n",
    "    pred_im=np.dstack([test[0],pred[0]])\n",
    "    pred_im=pred_im.astype('float32')\n",
    "    rgbpred = cv2.cvtColor(pred_im,cv2.COLOR_Luv2RGB)\n",
    "    rgbpred = resize(rgbpred, shape).astype('float32')\n",
    "    plt.figure(figsize=(12,12))\n",
    "    plt.imshow(rgbpred)"
   ]
  },
  {
   "cell_type": "code",
   "execution_count": null,
   "metadata": {},
   "outputs": [],
   "source": [
    "def bw2colour_unet(name):\n",
    "    from PIL import Image\n",
    "    # Open the image from working directory\n",
    "    test_0 = Image.open(name)\n",
    "    test_0=np.array(test_0)\n",
    "    shape=test_0.shape\n",
    "    test_0 = resize(test_0, (224, 224)).astype('float32')\n",
    "    test_0 = cv2.cvtColor(test_0,cv2.COLOR_RGB2Luv)\n",
    "    test_0l=test_0[:,:,0]\n",
    "    test=test_0l.reshape(1,224,224,1)\n",
    "    pred=model_unet.predict(test)\n",
    "    pred_im=np.dstack([test[0],pred[0]])\n",
    "    pred_im=pred_im.astype('float32')\n",
    "    rgbpred = cv2.cvtColor(pred_im,cv2.COLOR_Luv2RGB)\n",
    "    rgbpred = resize(rgbpred, shape).astype('float32')\n",
    "    plt.imshow(rgbpred)"
   ]
  },
  {
   "cell_type": "code",
   "execution_count": null,
   "metadata": {},
   "outputs": [],
   "source": [
    "image_path=''\n"
   ]
  },
  {
   "cell_type": "code",
   "execution_count": null,
   "metadata": {},
   "outputs": [],
   "source": [
    "bw2colour_unet(image_path)"
   ]
  },
  {
   "cell_type": "code",
   "execution_count": null,
   "metadata": {},
   "outputs": [],
   "source": [
    "bw2colour_reg(image_path)"
   ]
  }
 ],
 "metadata": {
  "kernelspec": {
   "display_name": "Python 3",
   "language": "python",
   "name": "python3"
  },
  "language_info": {
   "codemirror_mode": {
    "name": "ipython",
    "version": 3
   },
   "file_extension": ".py",
   "mimetype": "text/x-python",
   "name": "python",
   "nbconvert_exporter": "python",
   "pygments_lexer": "ipython3",
   "version": "3.8.3"
  }
 },
 "nbformat": 4,
 "nbformat_minor": 4
}
